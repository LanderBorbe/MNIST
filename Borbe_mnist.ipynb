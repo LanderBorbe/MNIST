{
 "cells": [
  {
   "cell_type": "code",
   "execution_count": 1,
   "id": "54425963",
   "metadata": {},
   "outputs": [],
   "source": [
    "%matplotlib inline"
   ]
  },
  {
   "cell_type": "code",
   "execution_count": 2,
   "id": "ad911f3b",
   "metadata": {},
   "outputs": [],
   "source": [
    "import numpy as np\n",
    "import matplotlib.pyplot as plt\n",
    "import random\n",
    "\n",
    "from keras.datasets import mnist\n",
    "from keras.models import Sequential\n",
    "\n",
    "from keras.layers.core import Dense, Dropout, Activation\n",
    "from keras.utils import np_utils"
   ]
  },
  {
   "cell_type": "code",
   "execution_count": 3,
   "id": "85212825",
   "metadata": {},
   "outputs": [],
   "source": [
    "(X_train, y_train),(X_test,y_test) = mnist.load_data()\n",
    "\n"
   ]
  },
  {
   "cell_type": "code",
   "execution_count": 4,
   "id": "8e42e456",
   "metadata": {},
   "outputs": [
    {
     "name": "stdout",
     "output_type": "stream",
     "text": [
      "X_train shape (60000, 28, 28)\n",
      "y_train shape (60000,)\n",
      "X_test shape (10000, 28, 28)\n",
      "y_test shape (10000,)\n"
     ]
    }
   ],
   "source": [
    "print(\"X_train shape\", X_train.shape)\n",
    "print(\"y_train shape\", y_train.shape)\n",
    "print(\"X_test shape\", X_test.shape)\n",
    "print(\"y_test shape\", y_test.shape)"
   ]
  },
  {
   "cell_type": "code",
   "execution_count": 5,
   "id": "3d83ec24",
   "metadata": {},
   "outputs": [
    {
     "data": {
      "image/png": "[encoded data removed]",
      "text/plain": [
       "<Figure size 648x648 with 9 Axes>"
      ]
     },
     "metadata": {
      "needs_background": "light"
     },
     "output_type": "display_data"
    }
   ],
   "source": [
    "plt.rcParams['figure.figsize']=(9,9)\n",
    "\n",
    "for i in range(9):\n",
    "    plt.subplot(3,3,i+1)\n",
    "    num = random.randint(0, len(X_train))\n",
    "    plt.imshow(X_train[num], cmap='gray', interpolation = 'none')\n",
    "    plt.title(\"Class {}\".format(y_train[num]))\n",
    "\n",
    "plt.tight_layout()"
   ]
  },
  {
   "cell_type": "code",
   "execution_count": 6,
   "id": "d1fb19cf",
   "metadata": {},
   "outputs": [
    {
     "name": "stdout",
     "output_type": "stream",
     "text": [
      "0 0 0 0 0 0 0   0   0   0   0   0   0   0   0   0   0   0   0   0   0   0   0 0 0 0 0 0 \n",
      "0 0 0 0 0 0 0   0   0   0   0   0   0   0   0   0   0   0   0   0   0   0   0 0 0 0 0 0 \n",
      "0 0 0 0 0 0 0   0   0   0   0   0   0   0   0   0   0   0   0   0   0   0   0 0 0 0 0 0 \n",
      "0 0 0 0 0 0 0   0   0   0   0   0   0   0   0   0   0   0   0   0   0   0   0 0 0 0 0 0 \n",
      "0 0 0 0 0 0 0   0   0   0   0   0   0   0   0   0   0   0   0   0   0   0   0 0 0 0 0 0 \n",
      "0 0 0 0 0 0 0   0   0   0   0   0   0   0   0   0   0   0  20 125 205 254 111 0 0 0 0 0 \n",
      "0 0 0 0 0 0 0   0   0   0   0   0   0  95 118 148 248 248 249 253 253 253 110 0 0 0 0 0 \n",
      "0 0 0 0 0 0 0   0  46 229 241 241 241 251 253 253 253 253 253 253 253 253 110 0 0 0 0 0 \n",
      "0 0 0 0 0 0 0   0 105 253 253 253 253 253 253 253 253 234 149 149 135  19   8 0 0 0 0 0 \n",
      "0 0 0 0 0 0 0   0 222 253 253 253 172 155 122  25  25  21   0   0   0   0   0 0 0 0 0 0 \n",
      "0 0 0 0 0 0 0   0 235 253 253 132   6   0   0   0   0   0   0   0   0   0   0 0 0 0 0 0 \n",
      "0 0 0 0 0 0 0   0 235 253 253  82   0  68  64   0   0   0   0   0   0   0   0 0 0 0 0 0 \n",
      "0 0 0 0 0 0 0   0 235 253 253 238 209 244 242 209 115  24   0   0   0   0   0 0 0 0 0 0 \n",
      "0 0 0 0 0 0 0   0 235 253 253 253 253 253 253 253 253 194  61   0   0   0   0 0 0 0 0 0 \n",
      "0 0 0 0 0 0 0   0 235 253 253 253 253 253 236 237 253 253 224  24   0   0   0 0 0 0 0 0 \n",
      "0 0 0 0 0 0 0   0 205 253 253 159  65  65  48  48 200 253 253  91   0   0   0 0 0 0 0 0 \n",
      "0 0 0 0 0 0 0   0  84  84  71  11   0   0   0   0  78 237 253 184   0   0   0 0 0 0 0 0 \n",
      "0 0 0 0 0 0 0   0   0   0   0   0   0   0   0   0   0 176 253 243  68   0   0 0 0 0 0 0 \n",
      "0 0 0 0 0 0 0   0  71 169  22   0   0   0   0   0   0 176 253 253  97   0   0 0 0 0 0 0 \n",
      "0 0 0 0 0 0 0  15 191 253  32   0   0   0   0   0   0 176 253 249  85   0   0 0 0 0 0 0 \n",
      "0 0 0 0 0 0 0 112 253 253  45   0   0   0   0   0   6 184 253 221   0   0   0 0 0 0 0 0 \n",
      "0 0 0 0 0 0 0 112 253 253 216 150 110  20  54 150 171 253 253 221   0   0   0 0 0 0 0 0 \n",
      "0 0 0 0 0 0 0  49 236 253 253 253 253 253 253 253 253 253 251 142   0   0   0 0 0 0 0 0 \n",
      "0 0 0 0 0 0 0   0  48 166 252 253 253 253 253 253 252 247 141   0   0   0   0 0 0 0 0 0 \n",
      "0 0 0 0 0 0 0   0   0   0 108 123 123 227 219 123  98   0   0   0   0   0   0 0 0 0 0 0 \n",
      "0 0 0 0 0 0 0   0   0   0   0   0   0   0   0   0   0   0   0   0   0   0   0 0 0 0 0 0 \n",
      "0 0 0 0 0 0 0   0   0   0   0   0   0   0   0   0   0   0   0   0   0   0   0 0 0 0 0 0 \n",
      "0 0 0 0 0 0 0   0   0   0   0   0   0   0   0   0   0   0   0   0   0   0   0 0 0 0 0 0 \n"
     ]
    }
   ],
   "source": [
    "def matprint(mat, fmt=\"g\"):\n",
    "    col_maxes = [max([len((\"{:\"+fmt+\"}\").format(x)) for x in col]) for col in mat.T]\n",
    "    for x in mat:\n",
    "        for i, y in enumerate(x):\n",
    "            print((\"{:\"+str (col_maxes[i])+fmt+\"}\").format(y), end=\" \")\n",
    "        print(\"\")\n",
    "        \n",
    "matprint(X_train[num])"
   ]
  },
  {
   "cell_type": "code",
   "execution_count": 7,
   "id": "9e8a0b20",
   "metadata": {},
   "outputs": [
    {
     "name": "stdout",
     "output_type": "stream",
     "text": [
      "Training matrix shape (60000, 784)\n",
      "Testing matrix shape (10000, 784)\n"
     ]
    }
   ],
   "source": [
    "X_train = X_train.reshape(60000, 784)\n",
    "X_test = X_test.reshape(10000, 784)\n",
    "\n",
    "X_train = X_train.astype('float32')\n",
    "X_test = X_test.astype('float32')\n",
    "\n",
    "X_train /= 255\n",
    "X_test /= 255\n",
    "\n",
    "print(\"Training matrix shape\", X_train.shape)\n",
    "print(\"Testing matrix shape\", X_test.shape)"
   ]
  },
  {
   "cell_type": "code",
   "execution_count": 8,
   "id": "9632accc",
   "metadata": {},
   "outputs": [],
   "source": [
    "nb_classes = 10\n",
    "\n",
    "Y_train = np_utils.to_categorical(y_train, nb_classes)\n",
    "Y_test = np_utils.to_categorical(y_test, nb_classes)"
   ]
  },
  {
   "cell_type": "code",
   "execution_count": 9,
   "id": "67d8c713",
   "metadata": {},
   "outputs": [
    {
     "data": {
      "text/plain": [
       "array([[0., 0., 0., ..., 0., 0., 0.],\n",
       "       [1., 0., 0., ..., 0., 0., 0.],\n",
       "       [0., 0., 0., ..., 0., 0., 0.],\n",
       "       ...,\n",
       "       [0., 0., 0., ..., 0., 0., 0.],\n",
       "       [0., 0., 0., ..., 0., 0., 0.],\n",
       "       [0., 0., 0., ..., 0., 1., 0.]], dtype=float32)"
      ]
     },
     "execution_count": 9,
     "metadata": {},
     "output_type": "execute_result"
    }
   ],
   "source": [
    "Y_train"
   ]
  },
  {
   "cell_type": "code",
   "execution_count": 10,
   "id": "7706d543",
   "metadata": {},
   "outputs": [],
   "source": [
    "from keras.preprocessing.image import ImageDataGenerator\n",
    "from keras.layers import Conv2D, MaxPooling2D, ZeroPadding2D, GlobalAveragePooling2D, Flatten\n",
    "from tensorflow.keras.layers import BatchNormalization"
   ]
  },
  {
   "cell_type": "code",
   "execution_count": 11,
   "id": "36bd2f19",
   "metadata": {},
   "outputs": [],
   "source": [
    "(X_train, y_train),(X_test, y_test) = mnist.load_data()"
   ]
  },
  {
   "cell_type": "code",
   "execution_count": 12,
   "id": "dfd3851d",
   "metadata": {},
   "outputs": [],
   "source": [
    "X_train = X_train.reshape(60000, 28, 28, 1)\n",
    "X_test = X_test.reshape(10000, 28, 28, 1)\n",
    "\n",
    "X_train = X_train.astype('float32')\n",
    "X_test = X_test.astype('float32')\n",
    "\n",
    "X_train /= 255\n",
    "X_test /= 255"
   ]
  },
  {
   "cell_type": "code",
   "execution_count": 13,
   "id": "347d8f74",
   "metadata": {},
   "outputs": [],
   "source": [
    "nb_classes =10\n",
    "\n",
    "Y_train = np_utils.to_categorical(y_train, nb_classes)\n",
    "Y_test = np_utils.to_categorical(y_test, nb_classes)"
   ]
  },
  {
   "cell_type": "code",
   "execution_count": 14,
   "id": "f285385b",
   "metadata": {},
   "outputs": [],
   "source": [
    "model = Sequential()\n",
    "\n",
    "model.add(Conv2D(32, (3, 3), input_shape=(28,28,1)))\n",
    "model.add(BatchNormalization(axis=-1))\n",
    "convLayer01 = Activation('relu')\n",
    "model.add(convLayer01)\n",
    "\n",
    "model.add(Conv2D(32, (3, 3)))\n",
    "model.add(BatchNormalization(axis=-1))\n",
    "model.add(Activation('relu'))\n",
    "convLayer02 = MaxPooling2D(pool_size=(2,2))\n",
    "model.add(convLayer02)\n",
    "\n",
    "model.add(Conv2D(64, (3, 3)))\n",
    "model.add(BatchNormalization(axis=-1))\n",
    "convLayer03 = (Activation('relu'))\n",
    "model.add(convLayer03)\n",
    "\n",
    "model.add(Conv2D(64, (3, 3)))\n",
    "model.add(BatchNormalization(axis=-1))\n",
    "model.add(Activation('relu'))\n",
    "convLayer04 = MaxPooling2D(pool_size=(2,2))\n",
    "model.add(convLayer04)\n",
    "model.add(Flatten())\n",
    "\n",
    "model.add(Dense(512))\n",
    "model.add(BatchNormalization())\n",
    "model.add(Activation('relu'))\n",
    "\n",
    "model.add(Dropout(0.2))\n",
    "model.add(Dense(10))\n",
    "model.add(Activation('softmax'))"
   ]
  },
  {
   "cell_type": "code",
   "execution_count": 15,
   "id": "3694320e",
   "metadata": {},
   "outputs": [
    {
     "name": "stdout",
     "output_type": "stream",
     "text": [
      "Model: \"sequential\"\n",
      "_________________________________________________________________\n",
      " Layer (type)                Output Shape              Param #   \n",
      "=================================================================\n",
      " conv2d (Conv2D)             (None, 26, 26, 32)        320       \n",
      "                                                                 \n",
      " batch_normalization (BatchN  (None, 26, 26, 32)       128       \n",
      " ormalization)                                                   \n",
      "                                                                 \n",
      " activation (Activation)     (None, 26, 26, 32)        0         \n",
      "                                                                 \n",
      " conv2d_1 (Conv2D)           (None, 24, 24, 32)        9248      \n",
      "                                                                 \n",
      " batch_normalization_1 (Batc  (None, 24, 24, 32)       128       \n",
      " hNormalization)                                                 \n",
      "                                                                 \n",
      " activation_1 (Activation)   (None, 24, 24, 32)        0         \n",
      "                                                                 \n",
      " max_pooling2d (MaxPooling2D  (None, 12, 12, 32)       0         \n",
      " )                                                               \n",
      "                                                                 \n",
      " conv2d_2 (Conv2D)           (None, 10, 10, 64)        18496     \n",
      "                                                                 \n",
      " batch_normalization_2 (Batc  (None, 10, 10, 64)       256       \n",
      " hNormalization)                                                 \n",
      "                                                                 \n",
      " activation_2 (Activation)   (None, 10, 10, 64)        0         \n",
      "                                                                 \n",
      " conv2d_3 (Conv2D)           (None, 8, 8, 64)          36928     \n",
      "                                                                 \n",
      " batch_normalization_3 (Batc  (None, 8, 8, 64)         256       \n",
      " hNormalization)                                                 \n",
      "                                                                 \n",
      " activation_3 (Activation)   (None, 8, 8, 64)          0         \n",
      "                                                                 \n",
      " max_pooling2d_1 (MaxPooling  (None, 4, 4, 64)         0         \n",
      " 2D)                                                             \n",
      "                                                                 \n",
      " flatten (Flatten)           (None, 1024)              0         \n",
      "                                                                 \n",
      " dense (Dense)               (None, 512)               524800    \n",
      "                                                                 \n",
      " batch_normalization_4 (Batc  (None, 512)              2048      \n",
      " hNormalization)                                                 \n",
      "                                                                 \n",
      " activation_4 (Activation)   (None, 512)               0         \n",
      "                                                                 \n",
      " dropout (Dropout)           (None, 512)               0         \n",
      "                                                                 \n",
      " dense_1 (Dense)             (None, 10)                5130      \n",
      "                                                                 \n",
      " activation_5 (Activation)   (None, 10)                0         \n",
      "                                                                 \n",
      "=================================================================\n",
      "Total params: 597,738\n",
      "Trainable params: 596,330\n",
      "Non-trainable params: 1,408\n",
      "_________________________________________________________________\n"
     ]
    }
   ],
   "source": [
    "model.summary()"
   ]
  },
  {
   "cell_type": "code",
   "execution_count": 16,
   "id": "7b604fd7",
   "metadata": {},
   "outputs": [],
   "source": [
    "model.compile(loss = 'categorical_crossentropy', optimizer = 'adam', metrics=['accuracy'])"
   ]
  },
  {
   "cell_type": "code",
   "execution_count": 17,
   "id": "e4f7333f",
   "metadata": {},
   "outputs": [],
   "source": [
    "gen = ImageDataGenerator(rotation_range=8, width_shift_range=0.08,shear_range=0.3,\n",
    "                        height_shift_range=0.08, zoom_range=0.08)\n",
    "test_gen = ImageDataGenerator()"
   ]
  },
  {
   "cell_type": "code",
   "execution_count": 18,
   "id": "4aa8e8da",
   "metadata": {},
   "outputs": [],
   "source": [
    "train_generator = gen.flow(X_train, Y_train, batch_size=128)\n",
    "test_generator = test_gen.flow(X_test,Y_test, batch_size=128)"
   ]
  },
  {
   "cell_type": "code",
   "execution_count": 19,
   "id": "7cf97a3e",
   "metadata": {},
   "outputs": [
    {
     "name": "stderr",
     "output_type": "stream",
     "text": [
      "C:\\Users\\lborb\\AppData\\Local\\Temp\\ipykernel_6120\\2932155566.py:1: UserWarning: `Model.fit_generator` is deprecated and will be removed in a future version. Please use `Model.fit`, which supports generators.\n",
      "  model.fit_generator(train_generator, steps_per_epoch=60000//128, epochs=5, verbose=1,\n"
     ]
    },
    {
     "name": "stdout",
     "output_type": "stream",
     "text": [
      "Epoch 1/5\n",
      "468/468 [==============================] - 181s 380ms/step - loss: 0.1302 - accuracy: 0.9602 - val_loss: 0.1335 - val_accuracy: 0.9587\n",
      "Epoch 2/5\n",
      "468/468 [==============================] - 190s 406ms/step - loss: 0.0488 - accuracy: 0.9845 - val_loss: 0.0452 - val_accuracy: 0.9860\n",
      "Epoch 3/5\n",
      "468/468 [==============================] - 222s 474ms/step - loss: 0.0399 - accuracy: 0.9873 - val_loss: 0.0621 - val_accuracy: 0.9817\n",
      "Epoch 4/5\n",
      "468/468 [==============================] - 198s 423ms/step - loss: 0.0321 - accuracy: 0.9899 - val_loss: 0.0362 - val_accuracy: 0.9892\n",
      "Epoch 5/5\n",
      "468/468 [==============================] - 217s 464ms/step - loss: 0.0310 - accuracy: 0.9904 - val_loss: 0.0353 - val_accuracy: 0.9895\n"
     ]
    },
    {
     "data": {
      "text/plain": [
       "<keras.callbacks.History at 0x21199130040>"
      ]
     },
     "execution_count": 19,
     "metadata": {},
     "output_type": "execute_result"
    }
   ],
   "source": [
    "model.fit_generator(train_generator, steps_per_epoch=60000//128, epochs=5, verbose=1,\n",
    "                   validation_data=test_generator, validation_steps=10000//128)"
   ]
  },
  {
   "cell_type": "code",
   "execution_count": 28,
   "id": "8dd96bab",
   "metadata": {},
   "outputs": [
    {
     "name": "stdout",
     "output_type": "stream",
     "text": [
      "313/313 [==============================] - 9s 29ms/step - loss: 0.0353 - accuracy: 0.9895\n",
      "Test score:  0.03527300804853439\n",
      "Test accuracy:  0.9894999861717224\n"
     ]
    }
   ],
   "source": [
    "score = model.evaluate(X_test, Y_test)\n",
    "print('Test score: ', score[0])\n",
    "print('Test accuracy: ', score[1])"
   ]
  },
  {
   "cell_type": "code",
   "execution_count": 30,
   "id": "9d5780cb",
   "metadata": {},
   "outputs": [],
   "source": [
    "from keras import backend as K\n",
    "\n",
    "img = X_test[3]\n",
    "img = np.expand_dims(img, axis=0) \n",
    "\n",
    "\n",
    "def visualize(layer):\n",
    "  inputs = [K.learning_phase()] + model.inputs\n",
    "\n",
    "  _convout1_f = K.function(inputs, [layer.output])\n",
    "\n",
    "def convout1_f(X):\n",
    "\n",
    "  return _convout1_f([0] + [X])\n",
    "\n",
    "  convolutions = convout1_f(img)\n",
    "  convolutions = np.squeeze(convolutions)\n",
    "\n",
    "  print ('Shape of conv:', convolutions.shape)\n",
    "\n",
    "  m = convolutions.shape[2]\n",
    "  n = int(np.ceil(np.sqrt(m)))\n",
    "\n",
    "  fig = plt.figure(figsize=(15,12))\n",
    "  for i in range(m):\n",
    "    ax = fig.add_subplot(n,n,i+1)\n",
    "    ax.imshow(convolutions[:,:,i], cmap='gray')"
   ]
  },
  {
   "cell_type": "code",
   "execution_count": 31,
   "id": "412f371e",
   "metadata": {},
   "outputs": [
    {
     "data": {
      "text/plain": [
       "<matplotlib.image.AxesImage at 0x211b7616ee0>"
      ]
     },
     "execution_count": 31,
     "metadata": {},
     "output_type": "execute_result"
    },
    {
     "data": {
      "image/png": "[encoded data removed]",
      "text/plain": [
       "<Figure size 648x648 with 1 Axes>"
      ]
     },
     "metadata": {
      "needs_background": "light"
     },
     "output_type": "display_data"
    }
   ],
   "source": [
    "plt.figure()\n",
    "plt.imshow(X_test[3].reshape(28,28), cmap='gray', interpolation='none')"
   ]
  },
  {
   "cell_type": "code",
   "execution_count": null,
   "id": "8554e15a",
   "metadata": {},
   "outputs": [],
   "source": []
  }
 ],
 "metadata": {
  "kernelspec": {
   "display_name": "Python 3 (ipykernel)",
   "language": "python",
   "name": "python3"
  },
  "language_info": {
   "codemirror_mode": {
    "name": "ipython",
    "version": 3
   },
   "file_extension": ".py",
   "mimetype": "text/x-python",
   "name": "python",
   "nbconvert_exporter": "python",
   "pygments_lexer": "ipython3",
   "version": "3.9.12"
  }
 },
 "nbformat": 4,
 "nbformat_minor": 5
}
